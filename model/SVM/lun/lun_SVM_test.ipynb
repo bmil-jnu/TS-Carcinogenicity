{
 "cells": [
  {
   "cell_type": "code",
   "execution_count": 1,
   "id": "555e6bb8-0c96-4e5c-b987-481f08a898b1",
   "metadata": {},
   "outputs": [
    {
     "name": "stdout",
     "output_type": "stream",
     "text": [
      "Fold 1: AUROC = 0.5375, AUPR = 0.6511\n",
      "Fold 2: AUROC = 0.5125, AUPR = 0.5538\n",
      "Fold 3: AUROC = 0.5000, AUPR = 0.6462\n",
      "Fold 4: AUROC = 0.8286, AUPR = 0.7840\n",
      "Fold 5: AUROC = 0.9028, AUPR = 0.8969\n",
      "Fold 6: AUROC = 0.6111, AUPR = 0.7350\n",
      "Fold 7: AUROC = 0.8750, AUPR = 0.8321\n",
      "Fold 8: AUROC = 0.8056, AUPR = 0.7715\n",
      "Fold 9: AUROC = 0.7778, AUPR = 0.7383\n",
      "Fold 10: AUROC = 0.6806, AUPR = 0.7277\n",
      "Fold 11: AUROC = 0.7361, AUPR = 0.7474\n",
      "Fold 12: AUROC = 0.6250, AUPR = 0.6405\n",
      "Fold 13: AUROC = 0.7083, AUPR = 0.7684\n",
      "Fold 14: AUROC = 0.7222, AUPR = 0.7260\n",
      "Fold 15: AUROC = 0.7083, AUPR = 0.7737\n",
      "Fold 16: AUROC = 0.7361, AUPR = 0.8054\n",
      "Fold 17: AUROC = 0.7639, AUPR = 0.7899\n",
      "Fold 18: AUROC = 0.8056, AUPR = 0.7839\n",
      "Fold 19: AUROC = 0.8194, AUPR = 0.7863\n",
      "Fold 20: AUROC = 0.8333, AUPR = 0.8645\n",
      "\n",
      "=== Summary ===\n",
      "Mean AUROC: 0.7245 ± 0.1169\n",
      "Mean AUPR:  0.7511 ± 0.0806\n"
     ]
    }
   ],
   "source": [
    "import os\n",
    "import torch\n",
    "import joblib\n",
    "import numpy as np\n",
    "from sklearn.metrics import roc_auc_score, average_precision_score\n",
    "\n",
    "# 설정\n",
    "save_dir = './processed'\n",
    "n_splits = 20\n",
    "\n",
    "auroc_list = []\n",
    "aupr_list = []\n",
    "\n",
    "for fold in range(1, n_splits + 1):\n",
    "    # 테스트 데이터 로드\n",
    "    test_path = os.path.join(save_dir, f'SVM_test_fold{fold}.pt')\n",
    "    data = torch.load(test_path)\n",
    "    X_test = data['features'].numpy()\n",
    "    y_test = data['labels'].numpy()\n",
    "\n",
    "    # 모델 로드\n",
    "    model_path = os.path.join(save_dir, f'svm_model_fold{fold}.pkl')\n",
    "    svm_model = joblib.load(model_path)\n",
    "\n",
    "    # 예측\n",
    "    y_proba = svm_model.predict_proba(X_test)[:, 1]\n",
    "\n",
    "    # 메트릭 계산\n",
    "    auroc = roc_auc_score(y_test, y_proba)\n",
    "    aupr = average_precision_score(y_test, y_proba)\n",
    "\n",
    "    auroc_list.append(auroc)\n",
    "    aupr_list.append(aupr)\n",
    "\n",
    "    print(f'Fold {fold}: AUROC = {auroc:.4f}, AUPR = {aupr:.4f}')\n",
    "\n",
    "# 평균 및 표준편차\n",
    "auroc_mean = np.mean(auroc_list)\n",
    "auroc_std = np.std(auroc_list, ddof=1)\n",
    "aupr_mean = np.mean(aupr_list)\n",
    "aupr_std = np.std(aupr_list, ddof=1)\n",
    "\n",
    "print('\\n=== Summary ===')\n",
    "print(f'Mean AUROC: {auroc_mean:.4f} ± {auroc_std:.4f}')\n",
    "print(f'Mean AUPR:  {aupr_mean:.4f} ± {aupr_std:.4f}')"
   ]
  },
  {
   "cell_type": "code",
   "execution_count": null,
   "id": "d098eb39-5c35-421f-b263-4d4c6e818443",
   "metadata": {},
   "outputs": [],
   "source": []
  }
 ],
 "metadata": {
  "kernelspec": {
   "display_name": "yunjumulti2",
   "language": "python",
   "name": "yunjumulti2"
  },
  "language_info": {
   "codemirror_mode": {
    "name": "ipython",
    "version": 3
   },
   "file_extension": ".py",
   "mimetype": "text/x-python",
   "name": "python",
   "nbconvert_exporter": "python",
   "pygments_lexer": "ipython3",
   "version": "3.7.12"
  }
 },
 "nbformat": 4,
 "nbformat_minor": 5
}
