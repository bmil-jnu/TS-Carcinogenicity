{
 "cells": [
  {
   "cell_type": "code",
   "execution_count": 1,
   "id": "555e6bb8-0c96-4e5c-b987-481f08a898b1",
   "metadata": {},
   "outputs": [
    {
     "name": "stdout",
     "output_type": "stream",
     "text": [
      "Fold 1: AUROC = 0.8642, AUPR = 0.9046\n",
      "Fold 2: AUROC = 0.4938, AUPR = 0.5339\n",
      "Fold 3: AUROC = 0.7407, AUPR = 0.7747\n",
      "Fold 4: AUROC = 0.8472, AUPR = 0.8817\n",
      "Fold 5: AUROC = 0.7500, AUPR = 0.7097\n",
      "Fold 6: AUROC = 0.7917, AUPR = 0.8651\n",
      "Fold 7: AUROC = 0.7431, AUPR = 0.7073\n",
      "Fold 8: AUROC = 0.6528, AUPR = 0.7288\n",
      "Fold 9: AUROC = 0.7778, AUPR = 0.7168\n",
      "Fold 10: AUROC = 0.7222, AUPR = 0.8010\n",
      "Fold 11: AUROC = 0.5278, AUPR = 0.6246\n",
      "Fold 12: AUROC = 0.8333, AUPR = 0.8888\n",
      "Fold 13: AUROC = 0.8472, AUPR = 0.8895\n",
      "Fold 14: AUROC = 0.7361, AUPR = 0.8055\n",
      "Fold 15: AUROC = 0.6806, AUPR = 0.7288\n",
      "Fold 16: AUROC = 0.7917, AUPR = 0.8223\n",
      "Fold 17: AUROC = 0.7500, AUPR = 0.7643\n",
      "Fold 18: AUROC = 0.4028, AUPR = 0.4293\n",
      "Fold 19: AUROC = 0.7222, AUPR = 0.6927\n",
      "Fold 20: AUROC = 0.8681, AUPR = 0.8742\n",
      "\n",
      "=== Summary ===\n",
      "Mean AUROC: 0.7272 ± 0.1253\n",
      "Mean AUPR:  0.7572 ± 0.1243\n"
     ]
    }
   ],
   "source": [
    "import os\n",
    "import torch\n",
    "import joblib\n",
    "import numpy as np\n",
    "from sklearn.metrics import roc_auc_score, average_precision_score\n",
    "\n",
    "# 설정\n",
    "save_dir = './processed'\n",
    "n_splits = 20\n",
    "\n",
    "auroc_list = []\n",
    "aupr_list = []\n",
    "\n",
    "for fold in range(1, n_splits + 1):\n",
    "    # 테스트 데이터 로드\n",
    "    test_path = os.path.join(save_dir, f'SVM_test_fold{fold}.pt')\n",
    "    data = torch.load(test_path)\n",
    "    X_test = data['features'].numpy()\n",
    "    y_test = data['labels'].numpy()\n",
    "\n",
    "    # 모델 로드\n",
    "    model_path = os.path.join(save_dir, f'svm_model_fold{fold}.pkl')\n",
    "    svm_model = joblib.load(model_path)\n",
    "\n",
    "    # 예측\n",
    "    y_proba = svm_model.predict_proba(X_test)[:, 1]\n",
    "\n",
    "    # 메트릭 계산\n",
    "    auroc = roc_auc_score(y_test, y_proba)\n",
    "    aupr = average_precision_score(y_test, y_proba)\n",
    "\n",
    "    auroc_list.append(auroc)\n",
    "    aupr_list.append(aupr)\n",
    "\n",
    "    print(f'Fold {fold}: AUROC = {auroc:.4f}, AUPR = {aupr:.4f}')\n",
    "\n",
    "# 평균 및 표준편차\n",
    "auroc_mean = np.mean(auroc_list)\n",
    "auroc_std = np.std(auroc_list, ddof=1)\n",
    "aupr_mean = np.mean(aupr_list)\n",
    "aupr_std = np.std(aupr_list, ddof=1)\n",
    "\n",
    "print('\\n=== Summary ===')\n",
    "print(f'Mean AUROC: {auroc_mean:.4f} ± {auroc_std:.4f}')\n",
    "print(f'Mean AUPR:  {aupr_mean:.4f} ± {aupr_std:.4f}')"
   ]
  },
  {
   "cell_type": "code",
   "execution_count": null,
   "id": "d098eb39-5c35-421f-b263-4d4c6e818443",
   "metadata": {},
   "outputs": [],
   "source": []
  }
 ],
 "metadata": {
  "kernelspec": {
   "display_name": "yunjumulti2",
   "language": "python",
   "name": "yunjumulti2"
  },
  "language_info": {
   "codemirror_mode": {
    "name": "ipython",
    "version": 3
   },
   "file_extension": ".py",
   "mimetype": "text/x-python",
   "name": "python",
   "nbconvert_exporter": "python",
   "pygments_lexer": "ipython3",
   "version": "3.7.12"
  }
 },
 "nbformat": 4,
 "nbformat_minor": 5
}
