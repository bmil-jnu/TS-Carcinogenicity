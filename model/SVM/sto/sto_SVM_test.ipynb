{
 "cells": [
  {
   "cell_type": "code",
   "execution_count": 1,
   "id": "555e6bb8-0c96-4e5c-b987-481f08a898b1",
   "metadata": {},
   "outputs": [
    {
     "name": "stdout",
     "output_type": "stream",
     "text": [
      "Fold 1: AUROC = 0.6375, AUPR = 0.7193\n",
      "Fold 2: AUROC = 0.8250, AUPR = 0.8561\n",
      "Fold 3: AUROC = 0.6500, AUPR = 0.7336\n",
      "Fold 4: AUROC = 0.4429, AUPR = 0.6170\n",
      "Fold 5: AUROC = 0.8714, AUPR = 0.9017\n",
      "Fold 6: AUROC = 0.6286, AUPR = 0.8012\n",
      "Fold 7: AUROC = 0.9306, AUPR = 0.9283\n",
      "Fold 8: AUROC = 0.8472, AUPR = 0.9006\n",
      "Fold 9: AUROC = 0.7500, AUPR = 0.8587\n",
      "Fold 10: AUROC = 0.8611, AUPR = 0.8246\n",
      "Fold 11: AUROC = 0.7639, AUPR = 0.8287\n",
      "Fold 12: AUROC = 0.7222, AUPR = 0.8149\n",
      "Fold 13: AUROC = 0.9028, AUPR = 0.9297\n",
      "Fold 14: AUROC = 0.6806, AUPR = 0.7782\n",
      "Fold 15: AUROC = 0.8889, AUPR = 0.9300\n",
      "Fold 16: AUROC = 0.9306, AUPR = 0.9603\n",
      "Fold 17: AUROC = 0.6806, AUPR = 0.6188\n",
      "Fold 18: AUROC = 0.7917, AUPR = 0.8803\n",
      "Fold 19: AUROC = 0.8750, AUPR = 0.8866\n",
      "Fold 20: AUROC = 0.8056, AUPR = 0.8543\n",
      "\n",
      "=== Summary ===\n",
      "Mean AUROC: 0.7743 ± 0.1259\n",
      "Mean AUPR:  0.8311 ± 0.0973\n"
     ]
    }
   ],
   "source": [
    "import os\n",
    "import torch\n",
    "import joblib\n",
    "import numpy as np\n",
    "from sklearn.metrics import roc_auc_score, average_precision_score\n",
    "\n",
    "# 설정\n",
    "save_dir = './processed'\n",
    "n_splits = 20\n",
    "\n",
    "auroc_list = []\n",
    "aupr_list = []\n",
    "\n",
    "for fold in range(1, n_splits + 1):\n",
    "    # 테스트 데이터 로드\n",
    "    test_path = os.path.join(save_dir, f'SVM_test_fold{fold}.pt')\n",
    "    data = torch.load(test_path)\n",
    "    X_test = data['features'].numpy()\n",
    "    y_test = data['labels'].numpy()\n",
    "\n",
    "    # 모델 로드\n",
    "    model_path = os.path.join(save_dir, f'svm_model_fold{fold}.pkl')\n",
    "    svm_model = joblib.load(model_path)\n",
    "\n",
    "    # 예측\n",
    "    y_proba = svm_model.predict_proba(X_test)[:, 1]\n",
    "\n",
    "    # 메트릭 계산\n",
    "    auroc = roc_auc_score(y_test, y_proba)\n",
    "    aupr = average_precision_score(y_test, y_proba)\n",
    "\n",
    "    auroc_list.append(auroc)\n",
    "    aupr_list.append(aupr)\n",
    "\n",
    "    print(f'Fold {fold}: AUROC = {auroc:.4f}, AUPR = {aupr:.4f}')\n",
    "\n",
    "# 평균 및 표준편차\n",
    "auroc_mean = np.mean(auroc_list)\n",
    "auroc_std = np.std(auroc_list, ddof=1)\n",
    "aupr_mean = np.mean(aupr_list)\n",
    "aupr_std = np.std(aupr_list, ddof=1)\n",
    "\n",
    "print('\\n=== Summary ===')\n",
    "print(f'Mean AUROC: {auroc_mean:.4f} ± {auroc_std:.4f}')\n",
    "print(f'Mean AUPR:  {aupr_mean:.4f} ± {aupr_std:.4f}')"
   ]
  },
  {
   "cell_type": "code",
   "execution_count": null,
   "id": "d098eb39-5c35-421f-b263-4d4c6e818443",
   "metadata": {},
   "outputs": [],
   "source": []
  }
 ],
 "metadata": {
  "kernelspec": {
   "display_name": "yunjumulti2",
   "language": "python",
   "name": "yunjumulti2"
  },
  "language_info": {
   "codemirror_mode": {
    "name": "ipython",
    "version": 3
   },
   "file_extension": ".py",
   "mimetype": "text/x-python",
   "name": "python",
   "nbconvert_exporter": "python",
   "pygments_lexer": "ipython3",
   "version": "3.7.12"
  }
 },
 "nbformat": 4,
 "nbformat_minor": 5
}
