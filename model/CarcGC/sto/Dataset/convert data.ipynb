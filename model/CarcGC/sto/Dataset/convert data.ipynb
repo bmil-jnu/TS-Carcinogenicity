{
 "cells": [
  {
   "cell_type": "code",
   "execution_count": 1,
   "id": "26ea2f97",
   "metadata": {},
   "outputs": [],
   "source": [
    "import pandas as pd\n",
    "\n",
    "sto_data = pd.read_csv('sto_data.csv')\n",
    "\n",
    "# Chemical Name을 만들기 위해 ID를 생성합니다.\n",
    "sto_data['Chemical Name'] = ['Chem' + str(i) for i in range(1, len(sto_data) + 1)]\n",
    "\n",
    "# 컬럼 순서를 변경하여 Chemical Name이 앞에 오도록\n",
    "sto_data = sto_data[['Chemical Name', 'SMILES', 'sto']]\n",
    "sto_data.rename(columns={'sto': 'Carcinogenicity'}, inplace=True)\n",
    "\n",
    "# Carcinogenicity가 1이면 '+'로, 0이면 '-'로 변환\n",
    "sto_data['Carcinogenicity'] = sto_data['Carcinogenicity'].map({1: '+', 0: '-'})\n",
    "\n",
    "# Carcinogenicity 컬럼을 제거한 데이터프레임을 저장\n",
    "sto_smiles = sto_data.drop(columns=['Carcinogenicity'])\n",
    "\n",
    "# Carcinogenicity를 제거한 데이터 저장\n",
    "sto_smiles.to_csv('sto_smiles_data.csv', index=False)  # 저장할 경로와 파일명을 입력하세요.\n",
    "\n",
    "# Carcinogenicity 컬럼이 포함된 원본 데이터프레임 저장\n",
    "sto_data.to_csv('path_to_save_sto_data.csv', index=False)  # 저장할 경로와 파일명을 입력하세요.\n",
    "\n",
    "\n",
    "from sklearn.model_selection import train_test_split\n",
    "\n",
    "# CSV 파일을 불러옵니다. 경로를 적절히 수정하세요.\n",
    "data = pd.read_csv('path_to_save_sto_data.csv')  # 'Chemical Name', 'Carcinogenicity', 'SMILES' 형식의 데이터를 불러옵니다.\n",
    "\n",
    "# 'Chemical Name'을 'pert_id'로 변경\n",
    "data.rename(columns={'Chemical Name': 'pert_id'}, inplace=True)\n",
    "\n",
    "# SMILES 열을 제거하고 'pert_id', 'Carcinogenicity' 열만 남깁니다.\n",
    "data = data[['pert_id', 'Carcinogenicity']]\n",
    "\n",
    "# 데이터 섞기 및 7:2:1 비율로 나누기\n",
    "train_data, temp_data = train_test_split(data, test_size=0.3, random_state=1)\n",
    "val_data, test_data = train_test_split(temp_data, test_size=0.333, random_state=1)  # 0.333은 1:2 비율\n",
    "\n",
    "# 나눈 데이터를 각각 저장\n",
    "train_data.to_csv('sto_train_data.csv', index=False)\n",
    "val_data.to_csv('sto_val_data.csv', index=False)\n",
    "test_data.to_csv('sto_test_data.csv', index=False)"
   ]
  },
  {
   "cell_type": "code",
   "execution_count": null,
   "id": "87d445f0",
   "metadata": {},
   "outputs": [],
   "source": []
  }
 ],
 "metadata": {
  "kernelspec": {
   "display_name": "yunjumulti2",
   "language": "python",
   "name": "yunjumulti2"
  },
  "language_info": {
   "codemirror_mode": {
    "name": "ipython",
    "version": 3
   },
   "file_extension": ".py",
   "mimetype": "text/x-python",
   "name": "python",
   "nbconvert_exporter": "python",
   "pygments_lexer": "ipython3",
   "version": "3.7.12"
  }
 },
 "nbformat": 4,
 "nbformat_minor": 5
}
