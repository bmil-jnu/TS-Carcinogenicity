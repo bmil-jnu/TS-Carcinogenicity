{
 "cells": [
  {
   "cell_type": "code",
   "execution_count": 1,
   "id": "174793d1",
   "metadata": {
    "scrolled": true
   },
   "outputs": [
    {
     "name": "stderr",
     "output_type": "stream",
     "text": [
      "2025-06-26 08:29:47.976703: I tensorflow/core/platform/cpu_feature_guard.cc:193] This TensorFlow binary is optimized with oneAPI Deep Neural Network Library (oneDNN) to use the following CPU instructions in performance-critical operations:  AVX2 FMA\n",
      "To enable them in other operations, rebuild TensorFlow with the appropriate compiler flags.\n",
      "2025-06-26 08:29:48.746259: W tensorflow/compiler/xla/stream_executor/platform/default/dso_loader.cc:64] Could not load dynamic library 'libnvinfer.so.7'; dlerror: libnvinfer.so.7: cannot open shared object file: No such file or directory\n",
      "2025-06-26 08:29:48.746331: W tensorflow/compiler/xla/stream_executor/platform/default/dso_loader.cc:64] Could not load dynamic library 'libnvinfer_plugin.so.7'; dlerror: libnvinfer_plugin.so.7: cannot open shared object file: No such file or directory\n",
      "2025-06-26 08:29:48.746336: W tensorflow/compiler/tf2tensorrt/utils/py_utils.cc:38] TF-TRT Warning: Cannot dlopen some TensorRT libraries. If you would like to use Nvidia GPU with TensorRT, please make sure the missing libraries mentioned above are installed properly.\n"
     ]
    }
   ],
   "source": [
    "import tensorflow as tf\n",
    "import matplotlib.pyplot as plt\n",
    "import numpy as np\n",
    "import tensorflow\n",
    "import seaborn as sns\n",
    "import pandas as pd\n",
    "\n",
    "from tensorflow import keras\n",
    "\n",
    "from rdkit import Chem\n",
    "from rdkit import DataStructs\n",
    "from rdkit.Chem import AllChem\n",
    "from rdkit.Chem.Fingerprints import FingerprintMols\n",
    "from rdkit.Chem import rdMolDescriptors\n",
    "\n",
    "from sklearn import datasets, metrics\n",
    "from sklearn.metrics import auc, roc_auc_score, roc_curve, confusion_matrix\n",
    "from sklearn.model_selection import train_test_split\n",
    "from sklearn.preprocessing import minmax_scale\n",
    "from sklearn.preprocessing import StandardScaler\n",
    "\n",
    "\n",
    "from scipy import interp\n",
    "from tensorflow.keras.layers import Embedding, Dense \n",
    "from tensorflow.keras.models import Sequential\n",
    "from tensorflow.keras.callbacks import EarlyStopping, ModelCheckpoint\n",
    "\n",
    "\n",
    "\n",
    "from tensorflow.keras import backend as K \n",
    "from tensorflow.keras.layers import BatchNormalization\n",
    "from tensorflow.keras import initializers"
   ]
  },
  {
   "cell_type": "code",
   "execution_count": 2,
   "id": "fa561ffe",
   "metadata": {},
   "outputs": [],
   "source": [
    "import os\n",
    "os.environ[\"CUDA_VISIBLE_DEVICES\"] = \"-1\""
   ]
  },
  {
   "cell_type": "code",
   "execution_count": 3,
   "id": "7449e533",
   "metadata": {
    "scrolled": true
   },
   "outputs": [
    {
     "name": "stdout",
     "output_type": "stream",
     "text": [
      "Test ROC AUC: 0.7574\n",
      "Test AUPR: 0.7429\n"
     ]
    },
    {
     "data": {
      "text/plain": [
       "['./oob_grid_search_rf/RF_test_metrics.pkl']"
      ]
     },
     "execution_count": 3,
     "metadata": {},
     "output_type": "execute_result"
    }
   ],
   "source": [
    "import os\n",
    "import torch\n",
    "import joblib\n",
    "from sklearn.metrics import roc_auc_score, average_precision_score\n",
    "\n",
    "# --- Paths ---\n",
    "SAVE_DIR = './oob_grid_search_rf'\n",
    "TEST_DATA_PATH = os.path.join(SAVE_DIR, 'RF_test_holdout.pt')\n",
    "MODEL_PATH = os.path.join(SAVE_DIR, 'random_forest_oob_model.pkl')\n",
    "\n",
    "# 1) Load hold-out test set\n",
    "data = torch.load(TEST_DATA_PATH)\n",
    "X_test = data['features'].numpy()  # torch tensor to numpy array\n",
    "y_test = data['labels'].numpy()\n",
    "\n",
    "# 2) Load trained model\n",
    "best_rf = joblib.load(MODEL_PATH)\n",
    "\n",
    "# 3) Predict probabilities on test set\n",
    "y_proba = best_rf.predict_proba(X_test)[:, 1]\n",
    "\n",
    "# 4) Compute evaluation metrics\n",
    "test_roc_auc = roc_auc_score(y_test, y_proba)\n",
    "test_aupr = average_precision_score(y_test, y_proba)\n",
    "\n",
    "# 5) Print results\n",
    "print(f\"Test ROC AUC: {test_roc_auc:.4f}\")\n",
    "print(f\"Test AUPR: {test_aupr:.4f}\")\n",
    "\n",
    "# 6) Optionally save metrics for later use\n",
    "metrics = {'roc_auc': test_roc_auc, 'avg_precision': test_aupr}\n",
    "joblib.dump(metrics, os.path.join(SAVE_DIR, 'RF_test_metrics.pkl'))"
   ]
  }
 ],
 "metadata": {
  "kernelspec": {
   "display_name": "yunjumulti2",
   "language": "python",
   "name": "yunjumulti2"
  },
  "language_info": {
   "codemirror_mode": {
    "name": "ipython",
    "version": 3
   },
   "file_extension": ".py",
   "mimetype": "text/x-python",
   "name": "python",
   "nbconvert_exporter": "python",
   "pygments_lexer": "ipython3",
   "version": "3.7.12"
  }
 },
 "nbformat": 4,
 "nbformat_minor": 5
}
